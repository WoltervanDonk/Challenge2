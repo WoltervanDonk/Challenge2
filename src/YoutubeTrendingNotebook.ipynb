{
 "cells": [
  {
   "cell_type": "markdown",
   "metadata": {},
   "source": [
    "# Aanpak\n",
    "- Data exploratie & business understanding\n",
    "- Data preparatie -> een method schrijven om per category_id in de csv files een category naam uit de bijbehorende json te halen\n",
    "- Bedenken wat we willen onderzoeken\n",
    "\n",
    "**Voor** het pushen naar git, verwijder alsjeblieft de output van cellen door **rechtermuisknop -> Clear All Outputs** te klikken (Anders worden de files erg groot omdat de resultaten worden opgeslagen in markup)\n"
   ]
  },
  {
   "cell_type": "markdown",
   "metadata": {},
   "source": [
    "**Importeren van benodigde libraries & het imporeren van de eerste dataset**"
   ]
  },
  {
   "cell_type": "code",
   "execution_count": null,
   "metadata": {},
   "outputs": [],
   "source": [
    "import pandas as pd\n",
    "import numpy as np\n",
    "\n",
    "dataframeGB = pd.read_csv(\"../initialdata/GBvideos.csv\")"
   ]
  },
  {
   "cell_type": "code",
   "execution_count": null,
   "metadata": {},
   "outputs": [],
   "source": [
    "dataframeGB"
   ]
  },
  {
   "cell_type": "code",
   "execution_count": null,
   "metadata": {},
   "outputs": [],
   "source": []
  }
 ],
 "metadata": {
  "kernelspec": {
   "display_name": "Python 3",
   "language": "python",
   "name": "python3"
  },
  "language_info": {
   "codemirror_mode": {
    "name": "ipython",
    "version": 3
   },
   "file_extension": ".py",
   "mimetype": "text/x-python",
   "name": "python",
   "nbconvert_exporter": "python",
   "pygments_lexer": "ipython3",
   "version": "3.7.4"
  }
 },
 "nbformat": 4,
 "nbformat_minor": 4
}
